{
 "cells": [
  {
   "cell_type": "code",
   "id": "initial_id",
   "metadata": {
    "colab": {
     "base_uri": "https://localhost:8080/"
    },
    "id": "initial_id",
    "outputId": "236f6198-ad6a-46e3-a10c-6fbddd26e8a0",
    "ExecuteTime": {
     "end_time": "2024-06-08T08:55:50.606289Z",
     "start_time": "2024-06-08T08:55:46.592041Z"
    }
   },
   "source": [
    "# 필요한 라이브러리 임포트\n",
    "import os\n",
    "import torch\n",
    "import torch.nn as nn\n",
    "import torch.optim as optim\n",
    "from torch.utils.data import DataLoader, TensorDataset\n",
    "from torch_geometric.nn import GATConv\n",
    "from sklearn.metrics import mean_absolute_error, r2_score, accuracy_score, confusion_matrix, f1_score, precision_score, recall_score\n",
    "from sklearn.preprocessing import StandardScaler\n",
    "import matplotlib.pyplot as plt\n",
    "import numpy as np\n",
    "import pandas as pd\n",
    "import seaborn as sns\n",
    "\n",
    "# CUDA 디바이스 어설션 활성화\n",
    "os.environ['CUDA_LAUNCH_BLOCKING'] = \"1\"\n",
    "os.environ['TORCH_USE_CUDA_DSA'] = \"1\""
   ],
   "outputs": [],
   "execution_count": 2
  },
  {
   "metadata": {
    "id": "955c2ea34fb9e53f",
    "ExecuteTime": {
     "end_time": "2024-06-08T08:55:50.616339Z",
     "start_time": "2024-06-08T08:55:50.613070Z"
    }
   },
   "cell_type": "code",
   "source": [
    "# 데이터 로드 함수 정의\n",
    "def load_data(files):\n",
    "    df_list = []\n",
    "    for file in files:\n",
    "        df = pd.read_csv(file)\n",
    "        df.drop(columns=['time'], inplace=True)  # 'time' 열 제거\n",
    "        df_list.append(df)\n",
    "    combined_df = pd.concat(df_list, axis=0, ignore_index=True)\n",
    "    return combined_df\n",
    "\n",
    "# 데이터 준비 함수 정의\n",
    "def prepare_data(df, label_column='attack'):\n",
    "    inputs = df.drop(columns=[label_column]).values.astype(float)\n",
    "    labels = df[label_column].values.astype(float)\n",
    "    return torch.tensor(inputs, dtype=torch.float32), torch.tensor(labels, dtype=torch.float32)"
   ],
   "id": "955c2ea34fb9e53f",
   "outputs": [],
   "execution_count": 4
  },
  {
   "metadata": {
    "colab": {
     "base_uri": "https://localhost:8080/"
    },
    "id": "e9a0b97d913203c5",
    "outputId": "94252c99-c82b-467a-b39b-de85dbe27f25",
    "ExecuteTime": {
     "end_time": "2024-06-08T08:55:58.116718Z",
     "start_time": "2024-06-08T08:55:50.617341Z"
    }
   },
   "cell_type": "code",
   "source": [
    "# 파일 경로 설정\n",
    "train_files = [\n",
    "    r'C:\\Users\\Researcher\\Desktop\\MTAD-GAT\\train\\train1.csv',\n",
    "    r'C:\\Users\\Researcher\\Desktop\\MTAD-GAT\\train\\train2.csv'\n",
    "]\n",
    "test_files = [\n",
    "    r'C:\\Users\\Researcher\\Desktop\\MTAD-GAT\\test1\\test1.csv',\n",
    "    r'C:\\Users\\Researcher\\Desktop\\MTAD-GAT\\test1\\test2.csv'\n",
    "]\n",
    "\n",
    "# 데이터 로드\n",
    "train_df = load_data(train_files)\n",
    "test_df = load_data(test_files)\n",
    "\n",
    "# 데이터 전처리\n",
    "scaler = StandardScaler()\n",
    "train_scaled = scaler.fit_transform(train_df.drop(columns=['attack']))\n",
    "test_scaled = scaler.transform(test_df.drop(columns=['attack']))\n",
    "\n",
    "train_scaled_df = pd.DataFrame(train_scaled, columns=train_df.columns.drop('attack'))\n",
    "test_scaled_df = pd.DataFrame(test_scaled, columns=test_df.columns.drop('attack'))\n",
    "\n",
    "train_scaled_df['attack'] = train_df['attack'].values\n",
    "test_scaled_df['attack'] = test_df['attack'].values\n",
    "\n",
    "train_inputs, train_labels = prepare_data(train_scaled_df, label_column='attack')\n",
    "test_inputs, test_labels = prepare_data(test_scaled_df, label_column='attack')\n",
    "\n",
    "train_dataset = torch.utils.data.TensorDataset(train_inputs, train_labels)\n",
    "test_dataset = torch.utils.data.TensorDataset(test_inputs, test_labels)\n",
    "\n",
    "train_loader = torch.utils.data.DataLoader(train_dataset, batch_size=32, shuffle=True)\n",
    "test_loader = torch.utils.data.DataLoader(test_dataset, batch_size=32, shuffle=False)\n",
    "\n",
    "# 데이터 유효성 검사\n",
    "for inputs, labels in train_loader:\n",
    "    print(f\"Batch size: {inputs.size(0)}\")\n",
    "    print(f\"Inputs shape: {inputs.shape}\")\n",
    "    print(f\"Labels shape: {labels.shape}\")\n",
    "    assert not torch.any(torch.isnan(inputs)), \"NaNs found in inputs\"\n",
    "    assert not torch.any(torch.isnan(labels)), \"NaNs found in labels\"\n",
    "    assert not torch.any(torch.isinf(inputs)), \"Infs found in inputs\"\n",
    "    assert not torch.any(torch.isinf(labels)), \"Infs found in labels\"\n",
    "    break  # 한 배치만 확인\n",
    "\n",
    "# 상관 행렬 계산\n",
    "corr_matrix = train_scaled_df.drop(columns=['attack']).corr().values\n",
    "\n",
    "# create_edge_index 함수 정의\n",
    "def create_edge_index(corr_matrix, threshold):\n",
    "    edge_index = []\n",
    "    num_nodes = corr_matrix.shape[0]\n",
    "    for i in range(num_nodes):\n",
    "        for j in range(num_nodes):\n",
    "            if i != j and abs(corr_matrix[i, j]) > threshold:\n",
    "                edge_index.append([i, j])\n",
    "    return torch.tensor(edge_index, dtype=torch.long).t().contiguous()\n",
    "\n",
    "# edge_index 생성\n",
    "num_nodes = train_scaled_df.drop(columns=['attack']).shape[1]\n",
    "edge_index = create_edge_index(corr_matrix, threshold=0.5)\n",
    "print(f'Edge index shape: {edge_index.shape}')\n",
    "print(f'Edge index max value: {edge_index.max()}')\n",
    "\n",
    "# edge_index가 num_nodes보다 작은지 확인\n",
    "assert edge_index.max().item() < num_nodes, f\"edge_index의 최대값이 num_nodes보다 큽니다. edge_index max: {edge_index.max().item()}, num_nodes: {num_nodes}\""
   ],
   "id": "e9a0b97d913203c5",
   "outputs": [
    {
     "name": "stdout",
     "output_type": "stream",
     "text": [
      "Batch size: 32\n",
      "Inputs shape: torch.Size([32, 62])\n",
      "Labels shape: torch.Size([32])\n",
      "Edge index shape: torch.Size([2, 348])\n",
      "Edge index max value: 58\n"
     ]
    }
   ],
   "execution_count": 5
  },
  {
   "cell_type": "code",
   "source": [
    "# MTAD-GAT 모델 정의\n",
    "class MTADGAT(nn.Module):\n",
    "    def __init__(self, input_dim, hidden_dim, output_dim, num_heads):\n",
    "        super(MTADGAT, self).__init__()\n",
    "        self.gat1 = GATConv(input_dim, hidden_dim, heads=num_heads, concat=True)\n",
    "        self.gat2 = GATConv(hidden_dim * num_heads, output_dim, heads=1, concat=True)\n",
    "        self.gru = nn.GRU(output_dim, hidden_dim, batch_first=True)\n",
    "        self.fc = nn.Linear(hidden_dim, 1)\n",
    "\n",
    "    def forward(self, x, edge_index):\n",
    "        x = self.gat1(x, edge_index)\n",
    "        x = torch.relu(x)\n",
    "        x = self.gat2(x, edge_index)\n",
    "        x = x.view(1, -1, x.size(1))  # GRU를 위한 리쉐이프\n",
    "        x, _ = self.gru(x)\n",
    "        x = self.fc(x.view(-1, x.size(2)))\n",
    "        return x\n",
    "\n",
    "# 모델 초기화 및 학습 설정\n",
    "input_dim = train_scaled_df.drop(columns=['attack']).shape[1]\n",
    "hidden_dim = 64\n",
    "output_dim = 32\n",
    "num_heads = 8\n",
    "\n",
    "device = torch.device(\"cuda\" if torch.cuda.is_available() else \"cpu\")\n",
    "model = MTADGAT(input_dim, hidden_dim, output_dim, num_heads).to(device)\n",
    "\n",
    "criterion = nn.MSELoss()\n",
    "optimizer = optim.Adam(model.parameters(), lr=0.001)\n",
    "\n",
    "# 모델을 GPU로 이동하기 전에 검증\n",
    "for name, param in model.named_parameters():\n",
    "    if param.requires_grad:\n",
    "        print(name, param.data)"
   ],
   "metadata": {
    "id": "opXV1MJin6zH",
    "ExecuteTime": {
     "end_time": "2024-06-08T08:55:58.497267Z",
     "start_time": "2024-06-08T08:55:58.117719Z"
    }
   },
   "id": "opXV1MJin6zH",
   "outputs": [
    {
     "name": "stdout",
     "output_type": "stream",
     "text": [
      "gat1.att_src tensor([[[ 0.1968, -0.1900,  0.2299,  0.0657,  0.1033,  0.1641, -0.2338,\n",
      "           0.0103, -0.2840,  0.1394,  0.0403, -0.1741,  0.0053, -0.2253,\n",
      "          -0.0931, -0.1861,  0.1950,  0.0024, -0.1879,  0.1865,  0.2577,\n",
      "          -0.0346,  0.2382,  0.1233,  0.1066, -0.1739,  0.1632,  0.2557,\n",
      "           0.0287, -0.2078,  0.1023, -0.0650, -0.1042, -0.1612, -0.0004,\n",
      "          -0.1939, -0.2456,  0.2209,  0.2489,  0.0238, -0.2120, -0.1473,\n",
      "          -0.0364, -0.0971,  0.1044, -0.1600, -0.2745, -0.2816, -0.2504,\n",
      "           0.0728,  0.2660,  0.0652,  0.2020,  0.1638,  0.1892,  0.0936,\n",
      "          -0.1197,  0.2843, -0.1467,  0.1198,  0.0875,  0.1369, -0.1244,\n",
      "           0.0118],\n",
      "         [ 0.0972, -0.1494,  0.2737,  0.0257, -0.2754, -0.1604, -0.0216,\n",
      "           0.1121, -0.1644,  0.0285, -0.2469, -0.2636, -0.0228,  0.2414,\n",
      "          -0.2781, -0.2551,  0.0134, -0.2237, -0.1637,  0.1804, -0.2187,\n",
      "           0.1227, -0.1023, -0.1773, -0.1496, -0.1562, -0.2327, -0.2743,\n",
      "           0.0572,  0.0509,  0.0339, -0.1865, -0.0793,  0.1625,  0.2459,\n",
      "           0.0042,  0.0549,  0.0153,  0.2738,  0.2762, -0.0637,  0.1750,\n",
      "          -0.2241, -0.2583,  0.0981,  0.2711,  0.2228, -0.0740,  0.1995,\n",
      "           0.0441,  0.1104, -0.2309,  0.0253, -0.0454, -0.2337, -0.0672,\n",
      "           0.0147,  0.2324, -0.2887,  0.0047, -0.1833,  0.0115,  0.2335,\n",
      "           0.2764],\n",
      "         [-0.2006,  0.0567,  0.1797, -0.1288, -0.2043, -0.2394,  0.2225,\n",
      "          -0.0409, -0.0401, -0.1355,  0.1819,  0.2533,  0.1385, -0.0313,\n",
      "           0.1988,  0.2205, -0.1136, -0.2290,  0.1746,  0.1602,  0.1844,\n",
      "           0.1987, -0.0018,  0.1919, -0.0247, -0.2633,  0.2831, -0.0236,\n",
      "          -0.2133, -0.1847,  0.0294, -0.2269,  0.2459, -0.2074, -0.0501,\n",
      "          -0.1381,  0.0064,  0.1181,  0.0443,  0.1402,  0.0300,  0.2731,\n",
      "          -0.1507, -0.2715,  0.2596,  0.0030,  0.1894,  0.0281,  0.1782,\n",
      "           0.1656,  0.1775,  0.2243,  0.1895, -0.0181,  0.0715, -0.0897,\n",
      "          -0.0578, -0.2474, -0.2259,  0.2557,  0.2500,  0.0791,  0.0289,\n",
      "           0.1321],\n",
      "         [-0.2854,  0.0027, -0.1312,  0.2232,  0.1774, -0.0265,  0.1651,\n",
      "          -0.0438, -0.1742,  0.0899,  0.1973, -0.2502, -0.2582,  0.2153,\n",
      "           0.0861, -0.0170, -0.1258, -0.0166,  0.1932,  0.0263, -0.2455,\n",
      "          -0.1651,  0.1686,  0.1519,  0.0233,  0.0964,  0.2692,  0.1754,\n",
      "          -0.0492, -0.0376,  0.1776, -0.0909, -0.0466,  0.0369,  0.2469,\n",
      "           0.1591,  0.2020, -0.2131,  0.2015, -0.1921, -0.0289,  0.2595,\n",
      "           0.1714, -0.1587, -0.1312, -0.0873, -0.2836,  0.0590,  0.0681,\n",
      "           0.2525,  0.1094, -0.2437,  0.0187,  0.0884,  0.2404,  0.0224,\n",
      "           0.1102, -0.1053, -0.1714, -0.1517, -0.0701, -0.0240,  0.1314,\n",
      "          -0.0302],\n",
      "         [-0.1798,  0.1102, -0.0954,  0.1828, -0.0827,  0.2310,  0.2208,\n",
      "           0.1369, -0.0954,  0.1920, -0.2769,  0.1912,  0.1304, -0.0305,\n",
      "           0.2542, -0.0146, -0.1141,  0.0566, -0.1130, -0.2503,  0.2334,\n",
      "           0.1499,  0.2356, -0.0785, -0.0828,  0.1434, -0.2617, -0.2065,\n",
      "          -0.2587, -0.0610, -0.0381, -0.2049, -0.2112, -0.2007,  0.1818,\n",
      "          -0.1815,  0.2657,  0.1969,  0.1604,  0.1879, -0.2276,  0.0602,\n",
      "          -0.1269, -0.2186, -0.1729, -0.2497,  0.1398, -0.0566, -0.1790,\n",
      "          -0.0929, -0.2759, -0.0140, -0.2001, -0.2643,  0.1308,  0.1175,\n",
      "          -0.1952, -0.2420, -0.0033,  0.2578, -0.1345, -0.0657, -0.0110,\n",
      "          -0.2653],\n",
      "         [ 0.0108,  0.0850,  0.2278,  0.2135,  0.2519, -0.1479,  0.2690,\n",
      "           0.2556,  0.2019,  0.2038,  0.0224, -0.0039,  0.0105, -0.2479,\n",
      "          -0.1521, -0.1354, -0.1226,  0.2550, -0.1336,  0.2626, -0.2871,\n",
      "           0.1948, -0.0688,  0.0988,  0.0525, -0.0974,  0.0518, -0.2414,\n",
      "          -0.2798, -0.1878, -0.1500,  0.1776, -0.2575,  0.0138,  0.1957,\n",
      "          -0.0135,  0.0384, -0.0739,  0.1691,  0.1273, -0.0772, -0.0850,\n",
      "          -0.2625, -0.1030,  0.2505, -0.0151, -0.0075,  0.0113,  0.0750,\n",
      "           0.0912, -0.1253,  0.2603,  0.0154, -0.1420, -0.1050,  0.1806,\n",
      "           0.1355,  0.0838, -0.2080,  0.2340,  0.2663,  0.2747,  0.2418,\n",
      "           0.0338],\n",
      "         [-0.2594,  0.0410, -0.2257, -0.2881,  0.2275,  0.0246,  0.2269,\n",
      "           0.2243, -0.1477, -0.1452,  0.0693, -0.1646, -0.1541,  0.2253,\n",
      "           0.0348,  0.0702,  0.1264,  0.1037, -0.0750,  0.2864, -0.2598,\n",
      "          -0.2786, -0.0507,  0.1278,  0.2854,  0.1769, -0.0751,  0.1852,\n",
      "           0.0264, -0.1129,  0.2049,  0.0281, -0.2360,  0.2593,  0.1525,\n",
      "          -0.2800, -0.2011, -0.1464,  0.2415, -0.1364, -0.2833,  0.0465,\n",
      "          -0.2824, -0.0283,  0.1020, -0.2090, -0.2849, -0.1924, -0.0542,\n",
      "           0.0096,  0.0495,  0.1766, -0.1150,  0.1320,  0.1166,  0.1210,\n",
      "           0.1530, -0.1754, -0.1269,  0.2330, -0.2482, -0.0018,  0.0990,\n",
      "           0.0159],\n",
      "         [-0.0520, -0.0114, -0.2624,  0.2065,  0.2315, -0.0221, -0.0043,\n",
      "          -0.2861, -0.0607, -0.2343, -0.1848,  0.1340,  0.2810,  0.2418,\n",
      "          -0.2365,  0.1665, -0.2628, -0.2539,  0.2249,  0.1564, -0.0337,\n",
      "           0.0117,  0.1147, -0.0502, -0.0427,  0.1514, -0.2825,  0.2826,\n",
      "           0.0263,  0.1205,  0.2039,  0.1196, -0.0628,  0.1137,  0.0953,\n",
      "           0.2394,  0.2341, -0.1441, -0.2828, -0.2816, -0.0878, -0.2572,\n",
      "           0.2517, -0.1080, -0.1857,  0.1432,  0.0100, -0.0904,  0.1673,\n",
      "           0.1265, -0.0998, -0.2569,  0.2300, -0.1166, -0.0819, -0.0642,\n",
      "           0.1113,  0.1478,  0.1336,  0.1146, -0.0159, -0.1913, -0.2577,\n",
      "           0.1131]]], device='cuda:0')\n",
      "gat1.att_dst tensor([[[-0.2853, -0.2062,  0.1494,  0.2331, -0.0974,  0.0576, -0.1573,\n",
      "          -0.0692, -0.0811, -0.0748,  0.0821,  0.2554,  0.0589, -0.1153,\n",
      "          -0.1516, -0.1935, -0.1621, -0.1289,  0.0314, -0.2025, -0.1576,\n",
      "          -0.2409, -0.0511,  0.0036, -0.1814,  0.1646,  0.2734, -0.0466,\n",
      "           0.1688,  0.0055,  0.2791,  0.0571, -0.2227,  0.0276, -0.1489,\n",
      "           0.2035, -0.1786,  0.0034, -0.2057,  0.0236,  0.1246, -0.2795,\n",
      "          -0.1764,  0.0359, -0.2656,  0.1776, -0.0857, -0.2687, -0.2506,\n",
      "          -0.0397, -0.2195, -0.2444, -0.1212, -0.1447, -0.1807, -0.2741,\n",
      "           0.2807, -0.0765,  0.2565,  0.2794,  0.2459, -0.2461, -0.1175,\n",
      "          -0.0506],\n",
      "         [-0.1543, -0.1545,  0.2880, -0.0619,  0.2885,  0.2003,  0.2795,\n",
      "           0.2322,  0.1398,  0.0134, -0.0470, -0.0198, -0.1152,  0.1123,\n",
      "           0.0937,  0.1166, -0.0335,  0.0949,  0.0195, -0.2723,  0.0274,\n",
      "          -0.1688,  0.2554,  0.2219,  0.2664, -0.1256, -0.0214, -0.1569,\n",
      "          -0.1867, -0.0570, -0.1626, -0.1277, -0.0091, -0.2470,  0.0646,\n",
      "          -0.2881,  0.1044, -0.0311, -0.2080,  0.2879,  0.2605,  0.1197,\n",
      "          -0.0573, -0.2064,  0.0915, -0.0861,  0.1277, -0.0872, -0.0004,\n",
      "          -0.0139,  0.2339,  0.1181, -0.0301, -0.1917,  0.2764,  0.1555,\n",
      "          -0.2648,  0.1325,  0.1939, -0.1783,  0.0182,  0.1693,  0.0812,\n",
      "          -0.1121],\n",
      "         [-0.0760,  0.0073,  0.1041, -0.1016,  0.0567, -0.2663, -0.0134,\n",
      "          -0.0697,  0.0082,  0.1556,  0.0996, -0.1990,  0.2107,  0.0029,\n",
      "           0.0446, -0.1847,  0.2261, -0.2298,  0.2862, -0.1017, -0.1067,\n",
      "          -0.0449,  0.1675,  0.1234,  0.1788,  0.2197, -0.1613,  0.0039,\n",
      "           0.0154, -0.1927,  0.1472,  0.1488, -0.0168, -0.2289, -0.2288,\n",
      "           0.0395,  0.0240,  0.0531, -0.0562,  0.2439, -0.2052,  0.0461,\n",
      "           0.1516, -0.0820, -0.0206, -0.1314,  0.2852,  0.0596,  0.0138,\n",
      "           0.0432, -0.0842,  0.1857,  0.0146, -0.1753,  0.0183, -0.2079,\n",
      "           0.2202, -0.1475,  0.0807,  0.2104, -0.1198, -0.0333,  0.1489,\n",
      "          -0.0357],\n",
      "         [-0.1741, -0.2676, -0.1062,  0.1846,  0.1807,  0.1654,  0.1943,\n",
      "          -0.0279, -0.0310,  0.2489,  0.0922,  0.2399, -0.1354,  0.1525,\n",
      "          -0.0242, -0.2211, -0.2822,  0.0121, -0.0413,  0.0506, -0.1689,\n",
      "          -0.2432, -0.1584, -0.2250,  0.0216,  0.0417,  0.0448, -0.1044,\n",
      "           0.1109,  0.0127,  0.2751,  0.2437, -0.1985, -0.2519, -0.0115,\n",
      "          -0.2753, -0.1707,  0.2116,  0.1790,  0.2419,  0.2571,  0.2849,\n",
      "           0.2034, -0.1614,  0.0038,  0.1337, -0.0190, -0.2567,  0.1931,\n",
      "          -0.0987,  0.1915,  0.0384,  0.2627, -0.2636, -0.1266,  0.0602,\n",
      "          -0.2178, -0.1119,  0.2169,  0.0439,  0.1358,  0.0414,  0.0012,\n",
      "          -0.0275],\n",
      "         [ 0.2568, -0.0416, -0.2552,  0.2348, -0.2439,  0.2684,  0.1675,\n",
      "           0.2335, -0.0837, -0.1078, -0.0524,  0.0917,  0.0378, -0.1665,\n",
      "           0.2499,  0.1891,  0.1741,  0.2170, -0.1211, -0.2852,  0.0117,\n",
      "           0.0007,  0.2105, -0.2732,  0.0580,  0.0338,  0.1323, -0.1730,\n",
      "           0.0470,  0.0572, -0.2691,  0.2326, -0.1465,  0.1653, -0.1795,\n",
      "          -0.2435,  0.2234,  0.1763,  0.2662, -0.1531, -0.0207, -0.1051,\n",
      "          -0.0762, -0.0693, -0.2780,  0.2880, -0.1276,  0.1519, -0.1969,\n",
      "          -0.1632,  0.0401, -0.1652, -0.0315, -0.1794,  0.2783,  0.2492,\n",
      "          -0.1060, -0.0416,  0.1371, -0.0629,  0.1081, -0.0467, -0.0003,\n",
      "           0.1696],\n",
      "         [ 0.0120,  0.2342, -0.2588, -0.0517,  0.2504, -0.2215,  0.1259,\n",
      "          -0.1696,  0.2709, -0.2113, -0.0267,  0.0201, -0.2612, -0.0764,\n",
      "          -0.0005, -0.2816, -0.0589,  0.2796, -0.1997, -0.1153,  0.1817,\n",
      "           0.2473, -0.0403, -0.2859, -0.0096,  0.0188, -0.1541,  0.0328,\n",
      "           0.1387, -0.1287, -0.1894,  0.1181, -0.1785,  0.1475, -0.0520,\n",
      "           0.1786, -0.0772,  0.0863,  0.1489, -0.0935, -0.2796, -0.2528,\n",
      "          -0.1092, -0.0928, -0.2015,  0.0702,  0.0583,  0.1545, -0.2644,\n",
      "           0.2263,  0.1956, -0.1244, -0.2506,  0.0311, -0.1454, -0.0904,\n",
      "           0.0201,  0.2473,  0.1873, -0.2187,  0.0763, -0.1875, -0.1290,\n",
      "           0.0586],\n",
      "         [ 0.0740,  0.2117,  0.1708, -0.0723,  0.1731,  0.0526, -0.0913,\n",
      "           0.0419,  0.2598, -0.0998,  0.1110,  0.2444,  0.0660,  0.1378,\n",
      "           0.1557, -0.1074, -0.0659, -0.1471,  0.2270, -0.0197, -0.0830,\n",
      "           0.2785, -0.0276, -0.2158, -0.2617, -0.2213, -0.0950, -0.1013,\n",
      "          -0.0908, -0.1093, -0.0496,  0.0292,  0.1624, -0.2572,  0.0421,\n",
      "          -0.1629, -0.1823, -0.2319,  0.2170,  0.1781,  0.1484,  0.2621,\n",
      "           0.0118,  0.1830, -0.0306,  0.0409, -0.0624,  0.2595,  0.2553,\n",
      "           0.0049,  0.1744, -0.0201, -0.0204, -0.0311,  0.1160,  0.2674,\n",
      "           0.1886,  0.1532, -0.2865,  0.2166, -0.0425, -0.2872, -0.2868,\n",
      "          -0.2284],\n",
      "         [ 0.0338,  0.1540, -0.0623,  0.2037,  0.0679,  0.0645, -0.0539,\n",
      "           0.1916, -0.1425,  0.0690,  0.2732, -0.1167, -0.1990,  0.1882,\n",
      "          -0.1502, -0.0641, -0.2839,  0.0780, -0.0122,  0.0228,  0.0174,\n",
      "          -0.1286,  0.1763,  0.0958, -0.1365, -0.0188, -0.0807,  0.0684,\n",
      "          -0.2874,  0.1952,  0.2670, -0.0224,  0.1715,  0.0216,  0.1455,\n",
      "          -0.2015,  0.0248,  0.1364, -0.1616, -0.1156,  0.1898, -0.2301,\n",
      "          -0.0728, -0.0073, -0.2566, -0.0772,  0.1636,  0.0523, -0.1497,\n",
      "           0.2150,  0.2148, -0.0166,  0.1905,  0.2022, -0.0170, -0.0781,\n",
      "          -0.1313, -0.2183,  0.2016, -0.0743, -0.1508, -0.1106, -0.1258,\n",
      "           0.0756]]], device='cuda:0')\n",
      "gat1.bias tensor([0., 0., 0., 0., 0., 0., 0., 0., 0., 0., 0., 0., 0., 0., 0., 0., 0., 0., 0., 0., 0., 0., 0., 0.,\n",
      "        0., 0., 0., 0., 0., 0., 0., 0., 0., 0., 0., 0., 0., 0., 0., 0., 0., 0., 0., 0., 0., 0., 0., 0.,\n",
      "        0., 0., 0., 0., 0., 0., 0., 0., 0., 0., 0., 0., 0., 0., 0., 0., 0., 0., 0., 0., 0., 0., 0., 0.,\n",
      "        0., 0., 0., 0., 0., 0., 0., 0., 0., 0., 0., 0., 0., 0., 0., 0., 0., 0., 0., 0., 0., 0., 0., 0.,\n",
      "        0., 0., 0., 0., 0., 0., 0., 0., 0., 0., 0., 0., 0., 0., 0., 0., 0., 0., 0., 0., 0., 0., 0., 0.,\n",
      "        0., 0., 0., 0., 0., 0., 0., 0., 0., 0., 0., 0., 0., 0., 0., 0., 0., 0., 0., 0., 0., 0., 0., 0.,\n",
      "        0., 0., 0., 0., 0., 0., 0., 0., 0., 0., 0., 0., 0., 0., 0., 0., 0., 0., 0., 0., 0., 0., 0., 0.,\n",
      "        0., 0., 0., 0., 0., 0., 0., 0., 0., 0., 0., 0., 0., 0., 0., 0., 0., 0., 0., 0., 0., 0., 0., 0.,\n",
      "        0., 0., 0., 0., 0., 0., 0., 0., 0., 0., 0., 0., 0., 0., 0., 0., 0., 0., 0., 0., 0., 0., 0., 0.,\n",
      "        0., 0., 0., 0., 0., 0., 0., 0., 0., 0., 0., 0., 0., 0., 0., 0., 0., 0., 0., 0., 0., 0., 0., 0.,\n",
      "        0., 0., 0., 0., 0., 0., 0., 0., 0., 0., 0., 0., 0., 0., 0., 0., 0., 0., 0., 0., 0., 0., 0., 0.,\n",
      "        0., 0., 0., 0., 0., 0., 0., 0., 0., 0., 0., 0., 0., 0., 0., 0., 0., 0., 0., 0., 0., 0., 0., 0.,\n",
      "        0., 0., 0., 0., 0., 0., 0., 0., 0., 0., 0., 0., 0., 0., 0., 0., 0., 0., 0., 0., 0., 0., 0., 0.,\n",
      "        0., 0., 0., 0., 0., 0., 0., 0., 0., 0., 0., 0., 0., 0., 0., 0., 0., 0., 0., 0., 0., 0., 0., 0.,\n",
      "        0., 0., 0., 0., 0., 0., 0., 0., 0., 0., 0., 0., 0., 0., 0., 0., 0., 0., 0., 0., 0., 0., 0., 0.,\n",
      "        0., 0., 0., 0., 0., 0., 0., 0., 0., 0., 0., 0., 0., 0., 0., 0., 0., 0., 0., 0., 0., 0., 0., 0.,\n",
      "        0., 0., 0., 0., 0., 0., 0., 0., 0., 0., 0., 0., 0., 0., 0., 0., 0., 0., 0., 0., 0., 0., 0., 0.,\n",
      "        0., 0., 0., 0., 0., 0., 0., 0., 0., 0., 0., 0., 0., 0., 0., 0., 0., 0., 0., 0., 0., 0., 0., 0.,\n",
      "        0., 0., 0., 0., 0., 0., 0., 0., 0., 0., 0., 0., 0., 0., 0., 0., 0., 0., 0., 0., 0., 0., 0., 0.,\n",
      "        0., 0., 0., 0., 0., 0., 0., 0., 0., 0., 0., 0., 0., 0., 0., 0., 0., 0., 0., 0., 0., 0., 0., 0.,\n",
      "        0., 0., 0., 0., 0., 0., 0., 0., 0., 0., 0., 0., 0., 0., 0., 0., 0., 0., 0., 0., 0., 0., 0., 0.,\n",
      "        0., 0., 0., 0., 0., 0., 0., 0.], device='cuda:0')\n",
      "gat1.lin.weight tensor([[-0.0402, -0.0191,  0.0833,  ...,  0.0098, -0.0841, -0.0374],\n",
      "        [ 0.0696, -0.0756,  0.0858,  ...,  0.0166, -0.0714,  0.0065],\n",
      "        [ 0.0781,  0.0279, -0.0863,  ...,  0.0276, -0.0065, -0.0467],\n",
      "        ...,\n",
      "        [-0.0362, -0.0915,  0.0940,  ...,  0.0621,  0.0965,  0.0815],\n",
      "        [-0.0523,  0.0138,  0.0487,  ..., -0.0073, -0.0220,  0.0345],\n",
      "        [-0.0881, -0.0460, -0.0947,  ..., -0.0606,  0.0566, -0.0794]],\n",
      "       device='cuda:0')\n",
      "gat2.att_src tensor([[[ 0.0452,  0.1738,  0.1880, -0.2998, -0.1318, -0.1622, -0.3949,\n",
      "          -0.2788, -0.1995,  0.1789,  0.2374,  0.3655, -0.3079,  0.3847,\n",
      "           0.0537,  0.2697, -0.0169, -0.1958, -0.2173,  0.2667,  0.3634,\n",
      "           0.1593, -0.1154,  0.0632, -0.0254,  0.1774, -0.2226,  0.0053,\n",
      "           0.2965,  0.2875, -0.1158,  0.1555]]], device='cuda:0')\n",
      "gat2.att_dst tensor([[[-0.2163,  0.1489,  0.1444, -0.2083, -0.0721,  0.2396,  0.2415,\n",
      "           0.0896, -0.4236, -0.2468, -0.2610, -0.0778, -0.0915,  0.2642,\n",
      "          -0.0064,  0.0172, -0.0071,  0.0385,  0.2816,  0.0321,  0.2160,\n",
      "          -0.2791,  0.0738,  0.3877,  0.1757,  0.0960,  0.2121, -0.0240,\n",
      "           0.0206,  0.3500, -0.4056,  0.2049]]], device='cuda:0')\n",
      "gat2.bias tensor([0., 0., 0., 0., 0., 0., 0., 0., 0., 0., 0., 0., 0., 0., 0., 0., 0., 0., 0., 0., 0., 0., 0., 0.,\n",
      "        0., 0., 0., 0., 0., 0., 0., 0.], device='cuda:0')\n",
      "gat2.lin.weight tensor([[ 0.0746,  0.1050, -0.0379,  ...,  0.0107,  0.0098,  0.0179],\n",
      "        [-0.0698, -0.0583, -0.0828,  ...,  0.0614,  0.1041, -0.0459],\n",
      "        [ 0.0532, -0.0975,  0.0353,  ...,  0.0215, -0.0375,  0.0979],\n",
      "        ...,\n",
      "        [-0.0915, -0.0479,  0.0785,  ..., -0.0111, -0.0544,  0.0927],\n",
      "        [-0.0524,  0.0557, -0.0785,  ...,  0.0901, -0.0219,  0.0021],\n",
      "        [-0.0260, -0.0695, -0.0579,  ...,  0.0438, -0.0435,  0.0083]],\n",
      "       device='cuda:0')\n",
      "gru.weight_ih_l0 tensor([[-0.0239, -0.0958,  0.0342,  ...,  0.1117, -0.1029, -0.0296],\n",
      "        [-0.1222, -0.0855,  0.0091,  ..., -0.1134,  0.1048, -0.0456],\n",
      "        [-0.0748,  0.1229, -0.0846,  ..., -0.0870, -0.0969,  0.1022],\n",
      "        ...,\n",
      "        [ 0.0128,  0.0130,  0.0930,  ...,  0.1001, -0.0254, -0.0074],\n",
      "        [-0.0531, -0.0128, -0.1232,  ..., -0.0385,  0.0623,  0.0606],\n",
      "        [-0.1238,  0.0972,  0.0406,  ...,  0.0288, -0.0898, -0.0005]],\n",
      "       device='cuda:0')\n",
      "gru.weight_hh_l0 tensor([[-0.0108, -0.0366,  0.1111,  ...,  0.0543, -0.0131, -0.0672],\n",
      "        [-0.0213,  0.0426,  0.0482,  ...,  0.0113, -0.0508,  0.0447],\n",
      "        [-0.1028,  0.0314,  0.0172,  ..., -0.0780, -0.0859,  0.0411],\n",
      "        ...,\n",
      "        [-0.0162,  0.1032, -0.1128,  ..., -0.1228,  0.0826, -0.0179],\n",
      "        [-0.0575,  0.0899,  0.0050,  ..., -0.0040, -0.0322,  0.1243],\n",
      "        [-0.0435,  0.0035,  0.0488,  ...,  0.0587,  0.0274,  0.0567]],\n",
      "       device='cuda:0')\n",
      "gru.bias_ih_l0 tensor([-0.0808,  0.0959,  0.0861,  0.0648,  0.1082, -0.1179,  0.0204, -0.0601,\n",
      "         0.1070, -0.0463, -0.0583,  0.0491,  0.0656,  0.1197, -0.0568,  0.0250,\n",
      "        -0.0453,  0.0751,  0.1141,  0.0359, -0.0628, -0.0476,  0.0446, -0.0269,\n",
      "        -0.0710, -0.0703, -0.1233,  0.0579,  0.0042, -0.0695, -0.0852,  0.0883,\n",
      "        -0.1054,  0.0623,  0.0292,  0.0599,  0.0979,  0.1000, -0.0621, -0.1094,\n",
      "        -0.0888, -0.0475, -0.0663, -0.0013,  0.0039, -0.0247,  0.0779, -0.1208,\n",
      "         0.0595, -0.0050,  0.0152, -0.0913,  0.0815, -0.1084,  0.0689,  0.1042,\n",
      "        -0.0143,  0.0147, -0.0986, -0.0829, -0.0960,  0.0672, -0.0094,  0.1168,\n",
      "         0.0215, -0.1174, -0.0717, -0.1135,  0.0903,  0.0311,  0.0343,  0.1182,\n",
      "        -0.1145,  0.0372,  0.1075,  0.0872, -0.0788,  0.0866, -0.0216,  0.0708,\n",
      "        -0.0875,  0.1078,  0.0675,  0.0531,  0.1072, -0.0800, -0.0035,  0.0333,\n",
      "        -0.0914,  0.0522,  0.1112,  0.0238, -0.0605,  0.1129, -0.0362, -0.0006,\n",
      "         0.1147,  0.0464, -0.1064, -0.1051,  0.0453, -0.0239, -0.0234, -0.0647,\n",
      "        -0.1238,  0.0401,  0.0686, -0.0260, -0.0450,  0.0995,  0.0983,  0.0497,\n",
      "         0.0870,  0.1133, -0.1008,  0.0325,  0.1179,  0.0652,  0.0538,  0.0964,\n",
      "        -0.0413,  0.0967, -0.0304,  0.0948, -0.0445, -0.0767, -0.0238,  0.0911,\n",
      "         0.0578,  0.1126,  0.0628,  0.0642,  0.0394,  0.0182,  0.0335, -0.0147,\n",
      "         0.0790,  0.1081, -0.0299,  0.0228,  0.0578, -0.1167,  0.0927, -0.0119,\n",
      "         0.0039,  0.1144,  0.0839, -0.0510, -0.0691, -0.1170, -0.0559,  0.0625,\n",
      "        -0.0256,  0.0298,  0.0497,  0.0992,  0.0407,  0.0085, -0.0194,  0.0586,\n",
      "         0.0456, -0.0247,  0.0523, -0.1070, -0.0358, -0.0271,  0.0389,  0.0515,\n",
      "         0.0876, -0.1129,  0.1003, -0.0223,  0.0925, -0.0388,  0.0340,  0.0725,\n",
      "         0.0076, -0.0785, -0.0065, -0.0393, -0.0263, -0.1143, -0.0030,  0.0863,\n",
      "        -0.0385, -0.0785, -0.1034, -0.0618,  0.0153, -0.0746, -0.0928, -0.0587],\n",
      "       device='cuda:0')\n",
      "gru.bias_hh_l0 tensor([ 0.0098,  0.0773,  0.0738, -0.1080,  0.0007,  0.0261, -0.0179, -0.0068,\n",
      "         0.0468, -0.0194,  0.1198, -0.0662, -0.0868, -0.0004, -0.0095,  0.0729,\n",
      "        -0.0557,  0.1083, -0.0644, -0.0568,  0.1203, -0.0201, -0.0949,  0.0715,\n",
      "        -0.0005, -0.1078, -0.1120, -0.0608, -0.0561, -0.1085,  0.0078, -0.0737,\n",
      "        -0.0467,  0.0132, -0.0956, -0.0624, -0.0205, -0.0824, -0.1209,  0.0915,\n",
      "        -0.0932, -0.1183, -0.0070,  0.0304, -0.0527, -0.0259, -0.1171, -0.0818,\n",
      "         0.0162, -0.0273,  0.1210, -0.0656,  0.0057,  0.0429,  0.1052,  0.0947,\n",
      "         0.0648,  0.0733,  0.1183,  0.0367, -0.0350, -0.0999,  0.1196, -0.0449,\n",
      "        -0.0418, -0.0902,  0.0114,  0.0716,  0.0201,  0.0431,  0.0411,  0.0696,\n",
      "         0.0448, -0.0669,  0.0604, -0.0703,  0.1018, -0.0127,  0.1112,  0.0694,\n",
      "        -0.0460,  0.0857, -0.1037, -0.1065,  0.0427,  0.0604, -0.0997, -0.0137,\n",
      "         0.0556, -0.0170,  0.0346, -0.0900,  0.0019,  0.0337,  0.0607,  0.0709,\n",
      "        -0.1131, -0.1116, -0.1170,  0.0034,  0.0376, -0.0389,  0.1047, -0.0058,\n",
      "        -0.1132, -0.0523,  0.0359, -0.0433, -0.0384,  0.0032, -0.1224,  0.0677,\n",
      "        -0.1139,  0.1215,  0.0362, -0.0220, -0.1160, -0.1138,  0.1183, -0.0130,\n",
      "        -0.0057,  0.1172, -0.0641,  0.1113, -0.0827, -0.0539, -0.0997, -0.1088,\n",
      "         0.1234,  0.0765, -0.0427, -0.0834, -0.0203, -0.1229,  0.0175, -0.0528,\n",
      "         0.0518, -0.0873, -0.0888,  0.0589,  0.0370,  0.0167, -0.0325,  0.0461,\n",
      "         0.0066, -0.0290,  0.0965,  0.0521,  0.1188,  0.0041,  0.0624, -0.0690,\n",
      "        -0.0846,  0.1032, -0.0100, -0.0676,  0.0229,  0.0566,  0.0307, -0.0052,\n",
      "        -0.1201, -0.0300,  0.0363, -0.1224, -0.0459, -0.0571, -0.0639, -0.0797,\n",
      "        -0.1209,  0.0326,  0.1112, -0.0677, -0.0940,  0.0390,  0.0558,  0.0411,\n",
      "         0.0918,  0.0604, -0.0913,  0.0687, -0.1234,  0.0291, -0.1056, -0.0134,\n",
      "        -0.0025,  0.1060,  0.0891,  0.0261, -0.0220, -0.1196, -0.0879, -0.0858],\n",
      "       device='cuda:0')\n",
      "fc.weight tensor([[-0.0150, -0.0869,  0.0274,  0.0557,  0.0707, -0.0935, -0.0176, -0.0409,\n",
      "         -0.1151,  0.0022,  0.0907, -0.0465,  0.0861,  0.1176, -0.1184,  0.0323,\n",
      "          0.0869,  0.0762, -0.0164,  0.1111, -0.1192,  0.0052, -0.1100, -0.0635,\n",
      "         -0.0856, -0.0379,  0.0996, -0.0121,  0.1111, -0.1138,  0.0132, -0.0223,\n",
      "          0.0169, -0.0415, -0.1164, -0.0015,  0.0145,  0.1159, -0.0817,  0.1091,\n",
      "         -0.0917,  0.0366,  0.0339, -0.0204,  0.1062,  0.0411, -0.0642, -0.0413,\n",
      "          0.0266, -0.1168, -0.0225, -0.0681, -0.0665, -0.0417,  0.0771,  0.0022,\n",
      "         -0.0979, -0.0997, -0.1164,  0.0377,  0.0091,  0.0538, -0.0044, -0.0192]],\n",
      "       device='cuda:0')\n",
      "fc.bias tensor([0.0045], device='cuda:0')\n"
     ]
    }
   ],
   "execution_count": 6
  },
  {
   "metadata": {
    "colab": {
     "base_uri": "https://localhost:8080/"
    },
    "id": "b72ed884995a5cbf",
    "outputId": "14c334d8-b0b7-4636-cde1-f342f68fb98b",
    "ExecuteTime": {
     "end_time": "2024-06-08T08:56:01.184341Z",
     "start_time": "2024-06-08T08:55:58.497267Z"
    }
   },
   "cell_type": "code",
   "source": [
    "# 상관 행렬 기반 edge_index 생성 함수 정의\n",
    "def create_edge_index(corr_matrix, threshold=0.5):\n",
    "    edge_index = []\n",
    "    num_nodes = corr_matrix.shape[0]\n",
    "    for i in range(num_nodes):\n",
    "        for j in range(num_nodes):\n",
    "            if i != j and abs(corr_matrix[i, j]) >= threshold:\n",
    "                edge_index.append([i, j])\n",
    "\n",
    "    edge_index = np.array(edge_index)\n",
    "\n",
    "    # 노드 수 초과하는 인덱스 제거\n",
    "    valid_indices = (edge_index[:, 0] < num_nodes) & (edge_index[:, 1] < num_nodes)\n",
    "    edge_index = edge_index[valid_indices]\n",
    "\n",
    "    return torch.tensor(edge_index, dtype=torch.long).t().contiguous()\n",
    "\n",
    "# 상관 행렬 계산\n",
    "corr_matrix = train_scaled_df.drop(columns=['attack']).corr().values\n",
    "\n",
    "# edge_index 생성\n",
    "num_nodes = train_scaled_df.drop(columns=['attack']).shape[1]\n",
    "edge_index = create_edge_index(corr_matrix, threshold=0.5)\n",
    "print(f'Edge index shape: {edge_index.shape}')\n",
    "print(f'Edge index max value: {edge_index.max()}')\n",
    "\n",
    "# edge_index가 num_nodes보다 작은지 확인\n",
    "assert edge_index.max() < num_nodes, f\"edge_index의 최대값이 num_nodes보다 큽니다. edge_index max: {edge_index.max()}, num_nodes: {num_nodes}\""
   ],
   "id": "b72ed884995a5cbf",
   "outputs": [
    {
     "name": "stdout",
     "output_type": "stream",
     "text": [
      "Edge index shape: torch.Size([2, 348])\n",
      "Edge index max value: 58\n"
     ]
    }
   ],
   "execution_count": 7
  },
  {
   "metadata": {
    "colab": {
     "base_uri": "https://localhost:8080/"
    },
    "id": "867de2f61e199f97",
    "outputId": "4af6825d-c778-4267-bf43-c67fe928fa32",
    "ExecuteTime": {
     "end_time": "2024-06-08T15:06:24.615059Z",
     "start_time": "2024-06-08T11:43:03.103206Z"
    }
   },
   "cell_type": "code",
   "source": [
    "# 모델 학습 및 평가\n",
    "epochs = 50\n",
    "train_losses = []\n",
    "test_losses = []\n",
    "precisions = []\n",
    "recalls = []\n",
    "\n",
    "for epoch in range(epochs):\n",
    "    model.train()\n",
    "    total_loss = 0\n",
    "    for inputs, labels in train_loader:\n",
    "        inputs, labels = inputs.to(device), labels.to(device)\n",
    "\n",
    "        # 입력 크기와 값 확인\n",
    "        assert inputs.size(0) == labels.size(0), f\"Batch size mismatch: {inputs.size(0)} vs {labels.size(0)}\"\n",
    "        assert not torch.any(torch.isnan(inputs)), \"NaNs found in inputs\"\n",
    "        assert not torch.any(torch.isnan(labels)), \"NaNs found in labels\"\n",
    "\n",
    "        # edge_index 필터링\n",
    "        mask = edge_index < inputs.size(0)\n",
    "        edge_index_filtered = edge_index[:, mask[0] & mask[1]]\n",
    "\n",
    "        # edge_index 확인\n",
    "        assert edge_index_filtered.max().item() < inputs.size(0), f\"edge_index의 최대값이 inputs의 노드 수 {inputs.size(0)}보다 큽니다. edge_index max: {edge_index_filtered.max().item()}, input nodes: {inputs.size(0)}\"\n",
    "\n",
    "        optimizer.zero_grad()\n",
    "        outputs = model(inputs, edge_index_filtered.to(device))\n",
    "        loss = criterion(outputs.squeeze(), labels)\n",
    "        loss.backward()\n",
    "        optimizer.step()\n",
    "\n",
    "        total_loss += loss.item()\n",
    "\n",
    "    train_losses.append(total_loss / len(train_loader))\n",
    "    # 테스트 손실 및 성능 평가\n",
    "    model.eval()\n",
    "    all_preds = []\n",
    "    all_labels = []\n",
    "    total_test_loss = 0\n",
    "    predictions = []\n",
    "    with torch.no_grad():\n",
    "        for inputs, labels in test_loader:\n",
    "            inputs, labels = inputs.to(device), labels.to(device)\n",
    "            outputs = model(inputs, edge_index_filtered.to(device))\n",
    "            loss = criterion(outputs.squeeze(), labels)\n",
    "            total_test_loss += loss.item()\n",
    "            preds = outputs.argmax(dim=1)\n",
    "            all_preds.extend(preds.cpu().numpy())\n",
    "            all_labels.extend(labels.cpu().numpy())\n",
    "            predictions.append(outputs.cpu().numpy())\n",
    "    test_losses.append(total_test_loss / len(test_loader))\n",
    "    \n",
    "    precision = precision_score(all_labels, all_preds, average='macro')\n",
    "    recall = recall_score(all_labels, all_preds, average='macro')\n",
    "    precisions.append(precision)\n",
    "    recalls.append(recall)\n",
    "    \n",
    "    print(f\"Epoch {epoch+1}/{epochs}, Train Loss: {total_loss / len(train_loader):.4f}, Test Loss: {total_test_loss / len(test_loader):.4f}, Precision: {precision:.4f}, Recall: {recall:.4f}\")\n",
    "    \n",
    "    # 모델 체크포인트 저장\n",
    "    torch.save(model.state_dict(), f'model_checkpoint_epoch_{epoch + 1}.pth')\n"
   ],
   "id": "867de2f61e199f97",
   "outputs": [
    {
     "name": "stderr",
     "output_type": "stream",
     "text": [
      "C:\\Users\\Researcher\\anaconda3\\Lib\\site-packages\\sklearn\\metrics\\_classification.py:1344: UndefinedMetricWarning: Precision is ill-defined and being set to 0.0 in labels with no predicted samples. Use `zero_division` parameter to control this behavior.\n",
      "  _warn_prf(average, modifier, msg_start, len(result))\n"
     ]
    },
    {
     "name": "stdout",
     "output_type": "stream",
     "text": [
      "Epoch 1/50, Train Loss: 0.0009, Test Loss: 0.0221, Precision: 0.4803, Recall: 0.5000\n"
     ]
    },
    {
     "name": "stderr",
     "output_type": "stream",
     "text": [
      "C:\\Users\\Researcher\\anaconda3\\Lib\\site-packages\\sklearn\\metrics\\_classification.py:1344: UndefinedMetricWarning: Precision is ill-defined and being set to 0.0 in labels with no predicted samples. Use `zero_division` parameter to control this behavior.\n",
      "  _warn_prf(average, modifier, msg_start, len(result))\n"
     ]
    },
    {
     "name": "stdout",
     "output_type": "stream",
     "text": [
      "Epoch 2/50, Train Loss: 0.0009, Test Loss: 0.0100, Precision: 0.4803, Recall: 0.5000\n"
     ]
    },
    {
     "name": "stderr",
     "output_type": "stream",
     "text": [
      "C:\\Users\\Researcher\\anaconda3\\Lib\\site-packages\\sklearn\\metrics\\_classification.py:1344: UndefinedMetricWarning: Precision is ill-defined and being set to 0.0 in labels with no predicted samples. Use `zero_division` parameter to control this behavior.\n",
      "  _warn_prf(average, modifier, msg_start, len(result))\n"
     ]
    },
    {
     "name": "stdout",
     "output_type": "stream",
     "text": [
      "Epoch 3/50, Train Loss: 0.0009, Test Loss: 0.0186, Precision: 0.4803, Recall: 0.5000\n"
     ]
    },
    {
     "name": "stderr",
     "output_type": "stream",
     "text": [
      "C:\\Users\\Researcher\\anaconda3\\Lib\\site-packages\\sklearn\\metrics\\_classification.py:1344: UndefinedMetricWarning: Precision is ill-defined and being set to 0.0 in labels with no predicted samples. Use `zero_division` parameter to control this behavior.\n",
      "  _warn_prf(average, modifier, msg_start, len(result))\n"
     ]
    },
    {
     "name": "stdout",
     "output_type": "stream",
     "text": [
      "Epoch 4/50, Train Loss: 0.0009, Test Loss: 0.0452, Precision: 0.4803, Recall: 0.5000\n"
     ]
    },
    {
     "name": "stderr",
     "output_type": "stream",
     "text": [
      "C:\\Users\\Researcher\\anaconda3\\Lib\\site-packages\\sklearn\\metrics\\_classification.py:1344: UndefinedMetricWarning: Precision is ill-defined and being set to 0.0 in labels with no predicted samples. Use `zero_division` parameter to control this behavior.\n",
      "  _warn_prf(average, modifier, msg_start, len(result))\n"
     ]
    },
    {
     "name": "stdout",
     "output_type": "stream",
     "text": [
      "Epoch 5/50, Train Loss: 0.0010, Test Loss: 0.0110, Precision: 0.4803, Recall: 0.5000\n"
     ]
    },
    {
     "name": "stderr",
     "output_type": "stream",
     "text": [
      "C:\\Users\\Researcher\\anaconda3\\Lib\\site-packages\\sklearn\\metrics\\_classification.py:1344: UndefinedMetricWarning: Precision is ill-defined and being set to 0.0 in labels with no predicted samples. Use `zero_division` parameter to control this behavior.\n",
      "  _warn_prf(average, modifier, msg_start, len(result))\n"
     ]
    },
    {
     "name": "stdout",
     "output_type": "stream",
     "text": [
      "Epoch 6/50, Train Loss: 0.0008, Test Loss: 0.0132, Precision: 0.4803, Recall: 0.5000\n"
     ]
    },
    {
     "name": "stderr",
     "output_type": "stream",
     "text": [
      "C:\\Users\\Researcher\\anaconda3\\Lib\\site-packages\\sklearn\\metrics\\_classification.py:1344: UndefinedMetricWarning: Precision is ill-defined and being set to 0.0 in labels with no predicted samples. Use `zero_division` parameter to control this behavior.\n",
      "  _warn_prf(average, modifier, msg_start, len(result))\n"
     ]
    },
    {
     "name": "stdout",
     "output_type": "stream",
     "text": [
      "Epoch 7/50, Train Loss: 0.0009, Test Loss: 0.0216, Precision: 0.4803, Recall: 0.5000\n"
     ]
    },
    {
     "name": "stderr",
     "output_type": "stream",
     "text": [
      "C:\\Users\\Researcher\\anaconda3\\Lib\\site-packages\\sklearn\\metrics\\_classification.py:1344: UndefinedMetricWarning: Precision is ill-defined and being set to 0.0 in labels with no predicted samples. Use `zero_division` parameter to control this behavior.\n",
      "  _warn_prf(average, modifier, msg_start, len(result))\n"
     ]
    },
    {
     "name": "stdout",
     "output_type": "stream",
     "text": [
      "Epoch 8/50, Train Loss: 0.0009, Test Loss: 0.0133, Precision: 0.4803, Recall: 0.5000\n"
     ]
    },
    {
     "name": "stderr",
     "output_type": "stream",
     "text": [
      "C:\\Users\\Researcher\\anaconda3\\Lib\\site-packages\\sklearn\\metrics\\_classification.py:1344: UndefinedMetricWarning: Precision is ill-defined and being set to 0.0 in labels with no predicted samples. Use `zero_division` parameter to control this behavior.\n",
      "  _warn_prf(average, modifier, msg_start, len(result))\n"
     ]
    },
    {
     "name": "stdout",
     "output_type": "stream",
     "text": [
      "Epoch 9/50, Train Loss: 0.0009, Test Loss: 0.0207, Precision: 0.4803, Recall: 0.5000\n"
     ]
    },
    {
     "name": "stderr",
     "output_type": "stream",
     "text": [
      "C:\\Users\\Researcher\\anaconda3\\Lib\\site-packages\\sklearn\\metrics\\_classification.py:1344: UndefinedMetricWarning: Precision is ill-defined and being set to 0.0 in labels with no predicted samples. Use `zero_division` parameter to control this behavior.\n",
      "  _warn_prf(average, modifier, msg_start, len(result))\n"
     ]
    },
    {
     "name": "stdout",
     "output_type": "stream",
     "text": [
      "Epoch 10/50, Train Loss: 0.0010, Test Loss: 0.0208, Precision: 0.4803, Recall: 0.5000\n"
     ]
    },
    {
     "name": "stderr",
     "output_type": "stream",
     "text": [
      "C:\\Users\\Researcher\\anaconda3\\Lib\\site-packages\\sklearn\\metrics\\_classification.py:1344: UndefinedMetricWarning: Precision is ill-defined and being set to 0.0 in labels with no predicted samples. Use `zero_division` parameter to control this behavior.\n",
      "  _warn_prf(average, modifier, msg_start, len(result))\n"
     ]
    },
    {
     "name": "stdout",
     "output_type": "stream",
     "text": [
      "Epoch 11/50, Train Loss: 0.0009, Test Loss: 0.0106, Precision: 0.4803, Recall: 0.5000\n"
     ]
    },
    {
     "name": "stderr",
     "output_type": "stream",
     "text": [
      "C:\\Users\\Researcher\\anaconda3\\Lib\\site-packages\\sklearn\\metrics\\_classification.py:1344: UndefinedMetricWarning: Precision is ill-defined and being set to 0.0 in labels with no predicted samples. Use `zero_division` parameter to control this behavior.\n",
      "  _warn_prf(average, modifier, msg_start, len(result))\n"
     ]
    },
    {
     "name": "stdout",
     "output_type": "stream",
     "text": [
      "Epoch 12/50, Train Loss: 0.0009, Test Loss: 0.0133, Precision: 0.4803, Recall: 0.5000\n"
     ]
    },
    {
     "name": "stderr",
     "output_type": "stream",
     "text": [
      "C:\\Users\\Researcher\\anaconda3\\Lib\\site-packages\\sklearn\\metrics\\_classification.py:1344: UndefinedMetricWarning: Precision is ill-defined and being set to 0.0 in labels with no predicted samples. Use `zero_division` parameter to control this behavior.\n",
      "  _warn_prf(average, modifier, msg_start, len(result))\n"
     ]
    },
    {
     "name": "stdout",
     "output_type": "stream",
     "text": [
      "Epoch 13/50, Train Loss: 0.0009, Test Loss: 0.0095, Precision: 0.4803, Recall: 0.5000\n"
     ]
    },
    {
     "name": "stderr",
     "output_type": "stream",
     "text": [
      "C:\\Users\\Researcher\\anaconda3\\Lib\\site-packages\\sklearn\\metrics\\_classification.py:1344: UndefinedMetricWarning: Precision is ill-defined and being set to 0.0 in labels with no predicted samples. Use `zero_division` parameter to control this behavior.\n",
      "  _warn_prf(average, modifier, msg_start, len(result))\n"
     ]
    },
    {
     "name": "stdout",
     "output_type": "stream",
     "text": [
      "Epoch 14/50, Train Loss: 0.0009, Test Loss: 0.0141, Precision: 0.4803, Recall: 0.5000\n"
     ]
    },
    {
     "name": "stderr",
     "output_type": "stream",
     "text": [
      "C:\\Users\\Researcher\\anaconda3\\Lib\\site-packages\\sklearn\\metrics\\_classification.py:1344: UndefinedMetricWarning: Precision is ill-defined and being set to 0.0 in labels with no predicted samples. Use `zero_division` parameter to control this behavior.\n",
      "  _warn_prf(average, modifier, msg_start, len(result))\n"
     ]
    },
    {
     "name": "stdout",
     "output_type": "stream",
     "text": [
      "Epoch 15/50, Train Loss: 0.0009, Test Loss: 0.0071, Precision: 0.4803, Recall: 0.5000\n"
     ]
    },
    {
     "name": "stderr",
     "output_type": "stream",
     "text": [
      "C:\\Users\\Researcher\\anaconda3\\Lib\\site-packages\\sklearn\\metrics\\_classification.py:1344: UndefinedMetricWarning: Precision is ill-defined and being set to 0.0 in labels with no predicted samples. Use `zero_division` parameter to control this behavior.\n",
      "  _warn_prf(average, modifier, msg_start, len(result))\n"
     ]
    },
    {
     "name": "stdout",
     "output_type": "stream",
     "text": [
      "Epoch 16/50, Train Loss: 0.0009, Test Loss: 0.0061, Precision: 0.4803, Recall: 0.5000\n"
     ]
    },
    {
     "name": "stderr",
     "output_type": "stream",
     "text": [
      "C:\\Users\\Researcher\\anaconda3\\Lib\\site-packages\\sklearn\\metrics\\_classification.py:1344: UndefinedMetricWarning: Precision is ill-defined and being set to 0.0 in labels with no predicted samples. Use `zero_division` parameter to control this behavior.\n",
      "  _warn_prf(average, modifier, msg_start, len(result))\n"
     ]
    },
    {
     "name": "stdout",
     "output_type": "stream",
     "text": [
      "Epoch 17/50, Train Loss: 0.0009, Test Loss: 0.0367, Precision: 0.4803, Recall: 0.5000\n"
     ]
    },
    {
     "name": "stderr",
     "output_type": "stream",
     "text": [
      "C:\\Users\\Researcher\\anaconda3\\Lib\\site-packages\\sklearn\\metrics\\_classification.py:1344: UndefinedMetricWarning: Precision is ill-defined and being set to 0.0 in labels with no predicted samples. Use `zero_division` parameter to control this behavior.\n",
      "  _warn_prf(average, modifier, msg_start, len(result))\n"
     ]
    },
    {
     "name": "stdout",
     "output_type": "stream",
     "text": [
      "Epoch 18/50, Train Loss: 0.0014, Test Loss: 0.0120, Precision: 0.4803, Recall: 0.5000\n"
     ]
    },
    {
     "name": "stderr",
     "output_type": "stream",
     "text": [
      "C:\\Users\\Researcher\\anaconda3\\Lib\\site-packages\\sklearn\\metrics\\_classification.py:1344: UndefinedMetricWarning: Precision is ill-defined and being set to 0.0 in labels with no predicted samples. Use `zero_division` parameter to control this behavior.\n",
      "  _warn_prf(average, modifier, msg_start, len(result))\n"
     ]
    },
    {
     "name": "stdout",
     "output_type": "stream",
     "text": [
      "Epoch 19/50, Train Loss: 0.0012, Test Loss: 0.0108, Precision: 0.4803, Recall: 0.5000\n"
     ]
    },
    {
     "name": "stderr",
     "output_type": "stream",
     "text": [
      "C:\\Users\\Researcher\\anaconda3\\Lib\\site-packages\\sklearn\\metrics\\_classification.py:1344: UndefinedMetricWarning: Precision is ill-defined and being set to 0.0 in labels with no predicted samples. Use `zero_division` parameter to control this behavior.\n",
      "  _warn_prf(average, modifier, msg_start, len(result))\n"
     ]
    },
    {
     "name": "stdout",
     "output_type": "stream",
     "text": [
      "Epoch 20/50, Train Loss: 0.0009, Test Loss: 0.0135, Precision: 0.4803, Recall: 0.5000\n"
     ]
    },
    {
     "name": "stderr",
     "output_type": "stream",
     "text": [
      "C:\\Users\\Researcher\\anaconda3\\Lib\\site-packages\\sklearn\\metrics\\_classification.py:1344: UndefinedMetricWarning: Precision is ill-defined and being set to 0.0 in labels with no predicted samples. Use `zero_division` parameter to control this behavior.\n",
      "  _warn_prf(average, modifier, msg_start, len(result))\n"
     ]
    },
    {
     "name": "stdout",
     "output_type": "stream",
     "text": [
      "Epoch 21/50, Train Loss: 0.0009, Test Loss: 0.0119, Precision: 0.4803, Recall: 0.5000\n"
     ]
    },
    {
     "name": "stderr",
     "output_type": "stream",
     "text": [
      "C:\\Users\\Researcher\\anaconda3\\Lib\\site-packages\\sklearn\\metrics\\_classification.py:1344: UndefinedMetricWarning: Precision is ill-defined and being set to 0.0 in labels with no predicted samples. Use `zero_division` parameter to control this behavior.\n",
      "  _warn_prf(average, modifier, msg_start, len(result))\n"
     ]
    },
    {
     "name": "stdout",
     "output_type": "stream",
     "text": [
      "Epoch 22/50, Train Loss: 0.0009, Test Loss: 0.0153, Precision: 0.4803, Recall: 0.5000\n"
     ]
    },
    {
     "name": "stderr",
     "output_type": "stream",
     "text": [
      "C:\\Users\\Researcher\\anaconda3\\Lib\\site-packages\\sklearn\\metrics\\_classification.py:1344: UndefinedMetricWarning: Precision is ill-defined and being set to 0.0 in labels with no predicted samples. Use `zero_division` parameter to control this behavior.\n",
      "  _warn_prf(average, modifier, msg_start, len(result))\n"
     ]
    },
    {
     "name": "stdout",
     "output_type": "stream",
     "text": [
      "Epoch 23/50, Train Loss: 0.0010, Test Loss: 0.0316, Precision: 0.4803, Recall: 0.5000\n"
     ]
    },
    {
     "name": "stderr",
     "output_type": "stream",
     "text": [
      "C:\\Users\\Researcher\\anaconda3\\Lib\\site-packages\\sklearn\\metrics\\_classification.py:1344: UndefinedMetricWarning: Precision is ill-defined and being set to 0.0 in labels with no predicted samples. Use `zero_division` parameter to control this behavior.\n",
      "  _warn_prf(average, modifier, msg_start, len(result))\n"
     ]
    },
    {
     "name": "stdout",
     "output_type": "stream",
     "text": [
      "Epoch 24/50, Train Loss: 0.0009, Test Loss: 0.0152, Precision: 0.4803, Recall: 0.5000\n"
     ]
    },
    {
     "name": "stderr",
     "output_type": "stream",
     "text": [
      "C:\\Users\\Researcher\\anaconda3\\Lib\\site-packages\\sklearn\\metrics\\_classification.py:1344: UndefinedMetricWarning: Precision is ill-defined and being set to 0.0 in labels with no predicted samples. Use `zero_division` parameter to control this behavior.\n",
      "  _warn_prf(average, modifier, msg_start, len(result))\n"
     ]
    },
    {
     "name": "stdout",
     "output_type": "stream",
     "text": [
      "Epoch 25/50, Train Loss: 0.0009, Test Loss: 0.0103, Precision: 0.4803, Recall: 0.5000\n"
     ]
    },
    {
     "name": "stderr",
     "output_type": "stream",
     "text": [
      "C:\\Users\\Researcher\\anaconda3\\Lib\\site-packages\\sklearn\\metrics\\_classification.py:1344: UndefinedMetricWarning: Precision is ill-defined and being set to 0.0 in labels with no predicted samples. Use `zero_division` parameter to control this behavior.\n",
      "  _warn_prf(average, modifier, msg_start, len(result))\n"
     ]
    },
    {
     "name": "stdout",
     "output_type": "stream",
     "text": [
      "Epoch 26/50, Train Loss: 0.0009, Test Loss: 0.0189, Precision: 0.4803, Recall: 0.5000\n"
     ]
    },
    {
     "name": "stderr",
     "output_type": "stream",
     "text": [
      "C:\\Users\\Researcher\\anaconda3\\Lib\\site-packages\\sklearn\\metrics\\_classification.py:1344: UndefinedMetricWarning: Precision is ill-defined and being set to 0.0 in labels with no predicted samples. Use `zero_division` parameter to control this behavior.\n",
      "  _warn_prf(average, modifier, msg_start, len(result))\n"
     ]
    },
    {
     "name": "stdout",
     "output_type": "stream",
     "text": [
      "Epoch 27/50, Train Loss: 0.0009, Test Loss: 0.0054, Precision: 0.4803, Recall: 0.5000\n"
     ]
    },
    {
     "name": "stderr",
     "output_type": "stream",
     "text": [
      "C:\\Users\\Researcher\\anaconda3\\Lib\\site-packages\\sklearn\\metrics\\_classification.py:1344: UndefinedMetricWarning: Precision is ill-defined and being set to 0.0 in labels with no predicted samples. Use `zero_division` parameter to control this behavior.\n",
      "  _warn_prf(average, modifier, msg_start, len(result))\n"
     ]
    },
    {
     "name": "stdout",
     "output_type": "stream",
     "text": [
      "Epoch 28/50, Train Loss: 0.0009, Test Loss: 0.0127, Precision: 0.4803, Recall: 0.5000\n"
     ]
    },
    {
     "name": "stderr",
     "output_type": "stream",
     "text": [
      "C:\\Users\\Researcher\\anaconda3\\Lib\\site-packages\\sklearn\\metrics\\_classification.py:1344: UndefinedMetricWarning: Precision is ill-defined and being set to 0.0 in labels with no predicted samples. Use `zero_division` parameter to control this behavior.\n",
      "  _warn_prf(average, modifier, msg_start, len(result))\n"
     ]
    },
    {
     "name": "stdout",
     "output_type": "stream",
     "text": [
      "Epoch 29/50, Train Loss: 0.0009, Test Loss: 0.0166, Precision: 0.4803, Recall: 0.5000\n"
     ]
    },
    {
     "name": "stderr",
     "output_type": "stream",
     "text": [
      "C:\\Users\\Researcher\\anaconda3\\Lib\\site-packages\\sklearn\\metrics\\_classification.py:1344: UndefinedMetricWarning: Precision is ill-defined and being set to 0.0 in labels with no predicted samples. Use `zero_division` parameter to control this behavior.\n",
      "  _warn_prf(average, modifier, msg_start, len(result))\n"
     ]
    },
    {
     "name": "stdout",
     "output_type": "stream",
     "text": [
      "Epoch 30/50, Train Loss: 0.0009, Test Loss: 0.0062, Precision: 0.4803, Recall: 0.5000\n"
     ]
    },
    {
     "name": "stderr",
     "output_type": "stream",
     "text": [
      "C:\\Users\\Researcher\\anaconda3\\Lib\\site-packages\\sklearn\\metrics\\_classification.py:1344: UndefinedMetricWarning: Precision is ill-defined and being set to 0.0 in labels with no predicted samples. Use `zero_division` parameter to control this behavior.\n",
      "  _warn_prf(average, modifier, msg_start, len(result))\n"
     ]
    },
    {
     "name": "stdout",
     "output_type": "stream",
     "text": [
      "Epoch 31/50, Train Loss: 0.0009, Test Loss: 0.0086, Precision: 0.4803, Recall: 0.5000\n"
     ]
    },
    {
     "name": "stderr",
     "output_type": "stream",
     "text": [
      "C:\\Users\\Researcher\\anaconda3\\Lib\\site-packages\\sklearn\\metrics\\_classification.py:1344: UndefinedMetricWarning: Precision is ill-defined and being set to 0.0 in labels with no predicted samples. Use `zero_division` parameter to control this behavior.\n",
      "  _warn_prf(average, modifier, msg_start, len(result))\n"
     ]
    },
    {
     "name": "stdout",
     "output_type": "stream",
     "text": [
      "Epoch 32/50, Train Loss: 0.0010, Test Loss: 0.0159, Precision: 0.4803, Recall: 0.5000\n"
     ]
    },
    {
     "name": "stderr",
     "output_type": "stream",
     "text": [
      "C:\\Users\\Researcher\\anaconda3\\Lib\\site-packages\\sklearn\\metrics\\_classification.py:1344: UndefinedMetricWarning: Precision is ill-defined and being set to 0.0 in labels with no predicted samples. Use `zero_division` parameter to control this behavior.\n",
      "  _warn_prf(average, modifier, msg_start, len(result))\n"
     ]
    },
    {
     "name": "stdout",
     "output_type": "stream",
     "text": [
      "Epoch 33/50, Train Loss: 0.0009, Test Loss: 0.0191, Precision: 0.4803, Recall: 0.5000\n"
     ]
    },
    {
     "name": "stderr",
     "output_type": "stream",
     "text": [
      "C:\\Users\\Researcher\\anaconda3\\Lib\\site-packages\\sklearn\\metrics\\_classification.py:1344: UndefinedMetricWarning: Precision is ill-defined and being set to 0.0 in labels with no predicted samples. Use `zero_division` parameter to control this behavior.\n",
      "  _warn_prf(average, modifier, msg_start, len(result))\n"
     ]
    },
    {
     "name": "stdout",
     "output_type": "stream",
     "text": [
      "Epoch 34/50, Train Loss: 0.0009, Test Loss: 0.0142, Precision: 0.4803, Recall: 0.5000\n"
     ]
    },
    {
     "name": "stderr",
     "output_type": "stream",
     "text": [
      "C:\\Users\\Researcher\\anaconda3\\Lib\\site-packages\\sklearn\\metrics\\_classification.py:1344: UndefinedMetricWarning: Precision is ill-defined and being set to 0.0 in labels with no predicted samples. Use `zero_division` parameter to control this behavior.\n",
      "  _warn_prf(average, modifier, msg_start, len(result))\n"
     ]
    },
    {
     "name": "stdout",
     "output_type": "stream",
     "text": [
      "Epoch 35/50, Train Loss: 0.0009, Test Loss: 0.0134, Precision: 0.4803, Recall: 0.5000\n"
     ]
    },
    {
     "name": "stderr",
     "output_type": "stream",
     "text": [
      "C:\\Users\\Researcher\\anaconda3\\Lib\\site-packages\\sklearn\\metrics\\_classification.py:1344: UndefinedMetricWarning: Precision is ill-defined and being set to 0.0 in labels with no predicted samples. Use `zero_division` parameter to control this behavior.\n",
      "  _warn_prf(average, modifier, msg_start, len(result))\n"
     ]
    },
    {
     "name": "stdout",
     "output_type": "stream",
     "text": [
      "Epoch 36/50, Train Loss: 0.0010, Test Loss: 0.0277, Precision: 0.4803, Recall: 0.5000\n"
     ]
    },
    {
     "name": "stderr",
     "output_type": "stream",
     "text": [
      "C:\\Users\\Researcher\\anaconda3\\Lib\\site-packages\\sklearn\\metrics\\_classification.py:1344: UndefinedMetricWarning: Precision is ill-defined and being set to 0.0 in labels with no predicted samples. Use `zero_division` parameter to control this behavior.\n",
      "  _warn_prf(average, modifier, msg_start, len(result))\n"
     ]
    },
    {
     "name": "stdout",
     "output_type": "stream",
     "text": [
      "Epoch 37/50, Train Loss: 0.0009, Test Loss: 0.0204, Precision: 0.4803, Recall: 0.5000\n"
     ]
    },
    {
     "name": "stderr",
     "output_type": "stream",
     "text": [
      "C:\\Users\\Researcher\\anaconda3\\Lib\\site-packages\\sklearn\\metrics\\_classification.py:1344: UndefinedMetricWarning: Precision is ill-defined and being set to 0.0 in labels with no predicted samples. Use `zero_division` parameter to control this behavior.\n",
      "  _warn_prf(average, modifier, msg_start, len(result))\n"
     ]
    },
    {
     "name": "stdout",
     "output_type": "stream",
     "text": [
      "Epoch 38/50, Train Loss: 0.0009, Test Loss: 0.0087, Precision: 0.4803, Recall: 0.5000\n"
     ]
    },
    {
     "name": "stderr",
     "output_type": "stream",
     "text": [
      "C:\\Users\\Researcher\\anaconda3\\Lib\\site-packages\\sklearn\\metrics\\_classification.py:1344: UndefinedMetricWarning: Precision is ill-defined and being set to 0.0 in labels with no predicted samples. Use `zero_division` parameter to control this behavior.\n",
      "  _warn_prf(average, modifier, msg_start, len(result))\n"
     ]
    },
    {
     "name": "stdout",
     "output_type": "stream",
     "text": [
      "Epoch 39/50, Train Loss: 0.0009, Test Loss: 0.0214, Precision: 0.4803, Recall: 0.5000\n"
     ]
    },
    {
     "name": "stderr",
     "output_type": "stream",
     "text": [
      "C:\\Users\\Researcher\\anaconda3\\Lib\\site-packages\\sklearn\\metrics\\_classification.py:1344: UndefinedMetricWarning: Precision is ill-defined and being set to 0.0 in labels with no predicted samples. Use `zero_division` parameter to control this behavior.\n",
      "  _warn_prf(average, modifier, msg_start, len(result))\n"
     ]
    },
    {
     "name": "stdout",
     "output_type": "stream",
     "text": [
      "Epoch 40/50, Train Loss: 0.0009, Test Loss: 0.0120, Precision: 0.4803, Recall: 0.5000\n"
     ]
    },
    {
     "name": "stderr",
     "output_type": "stream",
     "text": [
      "C:\\Users\\Researcher\\anaconda3\\Lib\\site-packages\\sklearn\\metrics\\_classification.py:1344: UndefinedMetricWarning: Precision is ill-defined and being set to 0.0 in labels with no predicted samples. Use `zero_division` parameter to control this behavior.\n",
      "  _warn_prf(average, modifier, msg_start, len(result))\n"
     ]
    },
    {
     "name": "stdout",
     "output_type": "stream",
     "text": [
      "Epoch 41/50, Train Loss: 0.0009, Test Loss: 0.0219, Precision: 0.4803, Recall: 0.5000\n"
     ]
    },
    {
     "name": "stderr",
     "output_type": "stream",
     "text": [
      "C:\\Users\\Researcher\\anaconda3\\Lib\\site-packages\\sklearn\\metrics\\_classification.py:1344: UndefinedMetricWarning: Precision is ill-defined and being set to 0.0 in labels with no predicted samples. Use `zero_division` parameter to control this behavior.\n",
      "  _warn_prf(average, modifier, msg_start, len(result))\n"
     ]
    },
    {
     "name": "stdout",
     "output_type": "stream",
     "text": [
      "Epoch 42/50, Train Loss: 0.0009, Test Loss: 0.0148, Precision: 0.4803, Recall: 0.5000\n"
     ]
    },
    {
     "name": "stderr",
     "output_type": "stream",
     "text": [
      "C:\\Users\\Researcher\\anaconda3\\Lib\\site-packages\\sklearn\\metrics\\_classification.py:1344: UndefinedMetricWarning: Precision is ill-defined and being set to 0.0 in labels with no predicted samples. Use `zero_division` parameter to control this behavior.\n",
      "  _warn_prf(average, modifier, msg_start, len(result))\n"
     ]
    },
    {
     "name": "stdout",
     "output_type": "stream",
     "text": [
      "Epoch 43/50, Train Loss: 0.0009, Test Loss: 0.0212, Precision: 0.4803, Recall: 0.5000\n"
     ]
    },
    {
     "name": "stderr",
     "output_type": "stream",
     "text": [
      "C:\\Users\\Researcher\\anaconda3\\Lib\\site-packages\\sklearn\\metrics\\_classification.py:1344: UndefinedMetricWarning: Precision is ill-defined and being set to 0.0 in labels with no predicted samples. Use `zero_division` parameter to control this behavior.\n",
      "  _warn_prf(average, modifier, msg_start, len(result))\n"
     ]
    },
    {
     "name": "stdout",
     "output_type": "stream",
     "text": [
      "Epoch 44/50, Train Loss: 0.0009, Test Loss: 0.0146, Precision: 0.4803, Recall: 0.5000\n"
     ]
    },
    {
     "name": "stderr",
     "output_type": "stream",
     "text": [
      "C:\\Users\\Researcher\\anaconda3\\Lib\\site-packages\\sklearn\\metrics\\_classification.py:1344: UndefinedMetricWarning: Precision is ill-defined and being set to 0.0 in labels with no predicted samples. Use `zero_division` parameter to control this behavior.\n",
      "  _warn_prf(average, modifier, msg_start, len(result))\n"
     ]
    },
    {
     "name": "stdout",
     "output_type": "stream",
     "text": [
      "Epoch 45/50, Train Loss: 0.0009, Test Loss: 0.0310, Precision: 0.4803, Recall: 0.5000\n"
     ]
    },
    {
     "name": "stderr",
     "output_type": "stream",
     "text": [
      "C:\\Users\\Researcher\\anaconda3\\Lib\\site-packages\\sklearn\\metrics\\_classification.py:1344: UndefinedMetricWarning: Precision is ill-defined and being set to 0.0 in labels with no predicted samples. Use `zero_division` parameter to control this behavior.\n",
      "  _warn_prf(average, modifier, msg_start, len(result))\n"
     ]
    },
    {
     "name": "stdout",
     "output_type": "stream",
     "text": [
      "Epoch 46/50, Train Loss: 0.0009, Test Loss: 0.0088, Precision: 0.4803, Recall: 0.5000\n"
     ]
    },
    {
     "name": "stderr",
     "output_type": "stream",
     "text": [
      "C:\\Users\\Researcher\\anaconda3\\Lib\\site-packages\\sklearn\\metrics\\_classification.py:1344: UndefinedMetricWarning: Precision is ill-defined and being set to 0.0 in labels with no predicted samples. Use `zero_division` parameter to control this behavior.\n",
      "  _warn_prf(average, modifier, msg_start, len(result))\n"
     ]
    },
    {
     "name": "stdout",
     "output_type": "stream",
     "text": [
      "Epoch 47/50, Train Loss: 0.0009, Test Loss: 0.0079, Precision: 0.4803, Recall: 0.5000\n"
     ]
    },
    {
     "name": "stderr",
     "output_type": "stream",
     "text": [
      "C:\\Users\\Researcher\\anaconda3\\Lib\\site-packages\\sklearn\\metrics\\_classification.py:1344: UndefinedMetricWarning: Precision is ill-defined and being set to 0.0 in labels with no predicted samples. Use `zero_division` parameter to control this behavior.\n",
      "  _warn_prf(average, modifier, msg_start, len(result))\n"
     ]
    },
    {
     "name": "stdout",
     "output_type": "stream",
     "text": [
      "Epoch 48/50, Train Loss: 0.0009, Test Loss: 0.0208, Precision: 0.4803, Recall: 0.5000\n"
     ]
    },
    {
     "name": "stderr",
     "output_type": "stream",
     "text": [
      "C:\\Users\\Researcher\\anaconda3\\Lib\\site-packages\\sklearn\\metrics\\_classification.py:1344: UndefinedMetricWarning: Precision is ill-defined and being set to 0.0 in labels with no predicted samples. Use `zero_division` parameter to control this behavior.\n",
      "  _warn_prf(average, modifier, msg_start, len(result))\n"
     ]
    },
    {
     "name": "stdout",
     "output_type": "stream",
     "text": [
      "Epoch 49/50, Train Loss: 0.0009, Test Loss: 0.0098, Precision: 0.4803, Recall: 0.5000\n"
     ]
    },
    {
     "name": "stderr",
     "output_type": "stream",
     "text": [
      "C:\\Users\\Researcher\\anaconda3\\Lib\\site-packages\\sklearn\\metrics\\_classification.py:1344: UndefinedMetricWarning: Precision is ill-defined and being set to 0.0 in labels with no predicted samples. Use `zero_division` parameter to control this behavior.\n",
      "  _warn_prf(average, modifier, msg_start, len(result))\n"
     ]
    },
    {
     "name": "stdout",
     "output_type": "stream",
     "text": [
      "Epoch 50/50, Train Loss: 0.0008, Test Loss: 0.0080, Precision: 0.4803, Recall: 0.5000\n"
     ]
    }
   ],
   "execution_count": 11
  },
  {
   "metadata": {
    "id": "b478e1a22b63118c",
    "ExecuteTime": {
     "end_time": "2024-06-08T15:12:29.952272Z",
     "start_time": "2024-06-08T15:12:29.926184Z"
    }
   },
   "cell_type": "code",
   "source": [
    "# 평가 지표 계산\n",
    "predictions = np.concatenate(predictions).flatten()\n",
    "mse = np.mean((test_labels.numpy() - predictions) ** 2)\n",
    "mae = mean_absolute_error(test_labels.numpy(), predictions)\n",
    "r2 = r2_score(test_labels.numpy(), predictions)\n",
    "\n",
    "print(f\"Mean Squared Error: {mse}\")\n",
    "print(f\"Mean Absolute Error: {mae}\")\n",
    "print(f\"R^2 Score: {r2}\")"
   ],
   "id": "b478e1a22b63118c",
   "outputs": [
    {
     "name": "stdout",
     "output_type": "stream",
     "text": [
      "Mean Squared Error: 0.007998411543667316\n",
      "Mean Absolute Error: 0.021648818626999855\n",
      "R^2 Score: 0.7887809885328958\n"
     ]
    }
   ],
   "execution_count": 12
  },
  {
   "cell_type": "code",
   "source": [
    "# 이상 탐지\n",
    "anomaly_threshold = mse + 3 * np.std(predictions - test_labels.numpy().reshape(-1, 1))\n",
    "\n",
    "anomalies = (np.abs(predictions - test_labels.numpy().reshape(-1, 1)) > anomaly_threshold).astype(int)\n",
    "\n",
    "# Classification metrics\n",
    "accuracy = accuracy_score(test_labels.numpy(), anomalies)\n",
    "f1 = f1_score(test_labels.numpy(), anomalies, average='macro')\n",
    "cm = confusion_matrix(test_labels.numpy(), anomalies)\n",
    "\n",
    "print(f\"Accuracy: {accuracy}\")\n",
    "print(f\"F1 Score: {f1}\")\n",
    "print(\"Confusion Matrix:\")\n",
    "print(cm)\n",
    "\n",
    "sns.heatmap(cm, annot=True, fmt='d', cmap='Blues', xticklabels=['Normal', 'Anomaly'], yticklabels=['Normal', 'Anomaly'])\n",
    "plt.ylabel('Actual')\n",
    "plt.xlabel('Predicted')\n",
    "plt.title('Confusion Matrix')\n",
    "plt.show()\n",
    "\n",
    "# 예측 및 이상치 시각화\n",
    "plt.figure(figsize=(15, 5))\n",
    "plt.plot(test_labels.numpy(), label='Actual', color='blue')\n",
    "plt.plot(predictions, label='Predicted', color='green')\n",
    "plt.scatter(np.where(anomalies == 1)[0], predictions[anomalies == 1], color='red', label='Anomalies')\n",
    "plt.legend()\n",
    "plt.show()\n",
    "\n",
    "# 학습 곡선 시각화\n",
    "plt.figure(figsize=(10, 5))\n",
    "plt.plot(train_losses, label='Train Loss')\n",
    "plt.plot(test_losses, label='Test Loss')\n",
    "plt.xlabel('Epoch')\n",
    "plt.ylabel('Loss')\n",
    "plt.legend()\n",
    "plt.title('Training and Testing Loss')\n",
    "plt.show()\n",
    "\n",
    "# Precision and Recall 시각화\n",
    "plt.figure(figsize=(10, 5))\n",
    "plt.plot(precisions, label='Precision')\n",
    "plt.plot(recalls, label='Recall')\n",
    "plt.xlabel('Epoch')\n",
    "plt.ylabel('Score')\n",
    "plt.legend()\n",
    "plt.title('Precision and Recall')\n",
    "plt.show()"
   ],
   "metadata": {
    "id": "x4aGgdTgljmp",
    "ExecuteTime": {
     "end_time": "2024-06-08T15:12:35.706534Z",
     "start_time": "2024-06-08T15:12:35.674135Z"
    }
   },
   "id": "x4aGgdTgljmp",
   "outputs": [
    {
     "ename": "MemoryError",
     "evalue": "Unable to allocate 736. GiB for an array with shape (444600, 444600) and data type float32",
     "output_type": "error",
     "traceback": [
      "\u001B[1;31m---------------------------------------------------------------------------\u001B[0m",
      "\u001B[1;31mMemoryError\u001B[0m                               Traceback (most recent call last)",
      "Cell \u001B[1;32mIn[13], line 2\u001B[0m\n\u001B[0;32m      1\u001B[0m \u001B[38;5;66;03m# 이상 탐지\u001B[39;00m\n\u001B[1;32m----> 2\u001B[0m anomaly_threshold \u001B[38;5;241m=\u001B[39m mse \u001B[38;5;241m+\u001B[39m \u001B[38;5;241m3\u001B[39m \u001B[38;5;241m*\u001B[39m np\u001B[38;5;241m.\u001B[39mstd(predictions \u001B[38;5;241m-\u001B[39m test_labels\u001B[38;5;241m.\u001B[39mnumpy()\u001B[38;5;241m.\u001B[39mreshape(\u001B[38;5;241m-\u001B[39m\u001B[38;5;241m1\u001B[39m, \u001B[38;5;241m1\u001B[39m))\n\u001B[0;32m      4\u001B[0m anomalies \u001B[38;5;241m=\u001B[39m (np\u001B[38;5;241m.\u001B[39mabs(predictions \u001B[38;5;241m-\u001B[39m test_labels\u001B[38;5;241m.\u001B[39mnumpy()\u001B[38;5;241m.\u001B[39mreshape(\u001B[38;5;241m-\u001B[39m\u001B[38;5;241m1\u001B[39m, \u001B[38;5;241m1\u001B[39m)) \u001B[38;5;241m>\u001B[39m anomaly_threshold)\u001B[38;5;241m.\u001B[39mastype(\u001B[38;5;28mint\u001B[39m)\n\u001B[0;32m      6\u001B[0m \u001B[38;5;66;03m# Classification metrics\u001B[39;00m\n",
      "\u001B[1;31mMemoryError\u001B[0m: Unable to allocate 736. GiB for an array with shape (444600, 444600) and data type float32"
     ]
    }
   ],
   "execution_count": 13
  },
  {
   "metadata": {},
   "cell_type": "code",
   "source": "",
   "id": "c0f2fe49865dca92",
   "outputs": [],
   "execution_count": null
  }
 ],
 "metadata": {
  "kernelspec": {
   "display_name": "Python 3 (ipykernel)",
   "language": "python",
   "name": "python3"
  },
  "language_info": {
   "codemirror_mode": {
    "name": "ipython",
    "version": 3
   },
   "file_extension": ".py",
   "mimetype": "text/x-python",
   "name": "python",
   "nbconvert_exporter": "python",
   "pygments_lexer": "ipython3",
   "version": "3.12.3"
  },
  "colab": {
   "provenance": []
  }
 },
 "nbformat": 4,
 "nbformat_minor": 5
}
